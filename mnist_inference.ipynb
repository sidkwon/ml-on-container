{
 "cells": [
  {
   "cell_type": "markdown",
   "id": "b9506fa0",
   "metadata": {},
   "source": [
    "# MNIST 추론"
   ]
  },
  {
   "cell_type": "code",
   "execution_count": 1,
   "id": "919b4d91",
   "metadata": {},
   "outputs": [],
   "source": [
    "import sys, os\n",
    "sys.path.append(\"./dataset\")\n",
    "\n",
    "import numpy as np\n",
    "import pickle\n",
    "from dataset.mnist import load_mnist\n",
    "import matplotlib.pylab as plt\n",
    "import requests\n",
    "import json"
   ]
  },
  {
   "cell_type": "markdown",
   "id": "7a6e0a78",
   "metadata": {},
   "source": [
    "# MNIST 데이터 로딩"
   ]
  },
  {
   "cell_type": "code",
   "execution_count": 2,
   "id": "e8a5fbe9",
   "metadata": {},
   "outputs": [],
   "source": [
    "(train_image_data, train_label_data), (test_image_data, test_label_data) = load_mnist(flatten = True, normalize = False)"
   ]
  },
  {
   "cell_type": "markdown",
   "id": "e8b14b7b",
   "metadata": {},
   "source": [
    "# 추론"
   ]
  },
  {
   "cell_type": "code",
   "execution_count": 3,
   "id": "52367e88",
   "metadata": {},
   "outputs": [],
   "source": [
    "def mnist_inference(n):\n",
    "    image = train_image_data[n]\n",
    "    image_reshaped = image.reshape(28, 28)\n",
    "    image_reshaped.shape\n",
    "    label = train_label_data[n]\n",
    "    plt.figure(figsize = (4, 4))\n",
    "    plt.title(\"sample of \" + str(label))\n",
    "    plt.imshow(image_reshaped, cmap=\"gray\")\n",
    "    plt.show()\n",
    "    \n",
    "    image_4d = image.reshape(-1, 28, 28, 1)\n",
    "    headers = {\"content-type\": \"application/json\"}\n",
    "    payload = json.dumps({\"signature_name\": \"serving_default\",\n",
    "                          \"instances\": image_4d.tolist()})\n",
    "    json_response = requests.post('http://localhost:8501/v1/models/mnist:predict',\n",
    "                                   data=payload, headers=headers)\n",
    "    prediction_list = json_response.json()['predictions'][0]\n",
    "    prediction = prediction_list.index(max(prediction_list))\n",
    "    \n",
    "    return \"prediction result:{}\".format(prediction)"
   ]
  },
  {
   "cell_type": "code",
   "execution_count": 8,
   "id": "273211fa",
   "metadata": {},
   "outputs": [
    {
     "data": {
      "image/png": "[encoded data removed]",
      "text/plain": [
       "<Figure size 288x288 with 1 Axes>"
      ]
     },
     "metadata": {
      "needs_background": "light"
     },
     "output_type": "display_data"
    },
    {
     "data": {
      "text/plain": [
       "'prediction result:1'"
      ]
     },
     "execution_count": 8,
     "metadata": {},
     "output_type": "execute_result"
    }
   ],
   "source": [
    "mnist_inference(100)"
   ]
  },
  {
   "cell_type": "code",
   "execution_count": null,
   "id": "ee58b113",
   "metadata": {},
   "outputs": [],
   "source": []
  }
 ],
 "metadata": {
  "kernelspec": {
   "display_name": "conda_tensorflow2_p36",
   "language": "python",
   "name": "conda_tensorflow2_p36"
  },
  "language_info": {
   "codemirror_mode": {
    "name": "ipython",
    "version": 3
   },
   "file_extension": ".py",
   "mimetype": "text/x-python",
   "name": "python",
   "nbconvert_exporter": "python",
   "pygments_lexer": "ipython3",
   "version": "3.6.13"
  }
 },
 "nbformat": 4,
 "nbformat_minor": 5
}
