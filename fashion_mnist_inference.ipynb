{
 "cells": [
  {
   "cell_type": "markdown",
   "id": "41744411",
   "metadata": {},
   "source": [
    "# Fashion MNIST 추론"
   ]
  },
  {
   "cell_type": "code",
   "execution_count": null,
   "id": "77e6e943",
   "metadata": {},
   "outputs": [],
   "source": [
    "import tensorflow as tf\n",
    "import matplotlib.pylab as plt\n",
    "\n",
    "import requests\n",
    "import json\n",
    "\n",
    "fashion_mnist = tf.keras.datasets.fashion_mnist\n",
    "(train_images, train_labels), (test_images, test_labels) = fashion_mnist.load_data()"
   ]
  },
  {
   "cell_type": "markdown",
   "id": "27701955",
   "metadata": {},
   "source": [
    "# Label 정의"
   ]
  },
  {
   "cell_type": "code",
   "execution_count": null,
   "id": "9b5a6d93",
   "metadata": {},
   "outputs": [],
   "source": [
    "labels = {'0': 'T-shirt/top', '1': 'Trouser', '2': 'Pullover', '3': 'Dress', '4': 'Coat', '5': 'Sandal', '6': 'Shirt', '7': 'Sneaker', '8': 'Bag', '9': 'Ankle boot'}"
   ]
  },
  {
   "cell_type": "markdown",
   "id": "aab74faf",
   "metadata": {},
   "source": [
    "# 추론"
   ]
  },
  {
   "cell_type": "code",
   "execution_count": null,
   "id": "5c00170c",
   "metadata": {},
   "outputs": [],
   "source": [
    "def fashion_mnist_show(n):\n",
    "    image = test_images[n]\n",
    "    image_reshaped = image.reshape(28, 28)\n",
    "    label = labels[str(test_labels[n])]\n",
    "    plt.figure(figsize = (2, 2))\n",
    "    plt.title(\"sample of \" + str(label))\n",
    "    plt.imshow(image_reshaped, cmap=\"gray\")\n",
    "    plt.show()"
   ]
  },
  {
   "cell_type": "code",
   "execution_count": null,
   "id": "9a22b196",
   "metadata": {},
   "outputs": [],
   "source": [
    "fashion_mnist_show(1000)"
   ]
  },
  {
   "cell_type": "code",
   "execution_count": null,
   "id": "5d7981c6",
   "metadata": {},
   "outputs": [],
   "source": [
    "def fashion_mnist_inference(n):\n",
    "    image = test_images[n]\n",
    "    headers = {\"content-type\": \"application/json\"}\n",
    "    payload = json.dumps({\"signature_name\": \"serving_default\",\n",
    "                          \"instances\": image.tolist()})\n",
    "    response = requests.post('http://localhost:8501/v1/models/mnist:predict',\n",
    "                              data=payload, headers=headers)\n",
    "    return response.json()"
   ]
  },
  {
   "cell_type": "code",
   "execution_count": null,
   "id": "4e52ce73",
   "metadata": {},
   "outputs": [],
   "source": [
    "fashion_mnist_inference(100)"
   ]
  },
  {
   "cell_type": "code",
   "execution_count": null,
   "id": "f1ea382d",
   "metadata": {},
   "outputs": [],
   "source": [
    "def fashion_mnist_get_inference_result(n):\n",
    "    fashion_mnist_show(n)\n",
    "    response = fashion_mnist_inference(n)\n",
    "    prediction_list = response['predictions'][0]\n",
    "    prediction = labels[str(prediction_list.index(max(prediction_list)))]\n",
    "    return \"prediction result:{}\".format(prediction)"
   ]
  },
  {
   "cell_type": "code",
   "execution_count": null,
   "id": "1290d3f3",
   "metadata": {},
   "outputs": [],
   "source": [
    "fashion_mnist_get_inference_result(100)"
   ]
  },
  {
   "cell_type": "code",
   "execution_count": null,
   "id": "bc30d445",
   "metadata": {},
   "outputs": [],
   "source": []
  },
  {
   "cell_type": "code",
   "execution_count": null,
   "id": "508204d2",
   "metadata": {},
   "outputs": [],
   "source": []
  },
  {
   "cell_type": "code",
   "execution_count": null,
   "id": "6b5d6cf1",
   "metadata": {},
   "outputs": [],
   "source": []
  }
 ],
 "metadata": {
  "kernelspec": {
   "display_name": "conda_tensorflow2_p36",
   "language": "python",
   "name": "conda_tensorflow2_p36"
  },
  "language_info": {
   "codemirror_mode": {
    "name": "ipython",
    "version": 3
   },
   "file_extension": ".py",
   "mimetype": "text/x-python",
   "name": "python",
   "nbconvert_exporter": "python",
   "pygments_lexer": "ipython3",
   "version": "3.6.13"
  }
 },
 "nbformat": 4,
 "nbformat_minor": 5
}
