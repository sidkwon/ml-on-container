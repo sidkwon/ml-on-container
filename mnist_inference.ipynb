{
 "cells": [
  {
   "cell_type": "markdown",
   "id": "b0a5b16c",
   "metadata": {},
   "source": [
    "# MNIST 추론"
   ]
  },
  {
   "cell_type": "code",
   "execution_count": null,
   "id": "5823f912",
   "metadata": {},
   "outputs": [],
   "source": [
    "!unzip dataset.zip"
   ]
  },
  {
   "cell_type": "code",
   "execution_count": null,
   "id": "4085520b",
   "metadata": {},
   "outputs": [],
   "source": [
    "import sys, os\n",
    "sys.path.append(\"./dataset\")\n",
    "\n",
    "import numpy as np\n",
    "import pickle\n",
    "from dataset.mnist import load_mnist\n",
    "import matplotlib.pylab as plt\n",
    "import requests\n",
    "import json"
   ]
  },
  {
   "cell_type": "markdown",
   "id": "396ac61b",
   "metadata": {},
   "source": [
    "# MNIST 데이터 로딩"
   ]
  },
  {
   "cell_type": "code",
   "execution_count": null,
   "id": "b05c4670",
   "metadata": {},
   "outputs": [],
   "source": [
    "(train_image_data, train_label_data), (test_image_data, test_label_data) = load_mnist(flatten = True, normalize = False)"
   ]
  },
  {
   "cell_type": "markdown",
   "id": "f235bb59",
   "metadata": {},
   "source": [
    "# 추론"
   ]
  },
  {
   "cell_type": "code",
   "execution_count": null,
   "id": "b95750bc",
   "metadata": {},
   "outputs": [],
   "source": [
    "def mnist_inference(n):\n",
    "    image = train_image_data[n]\n",
    "    image_reshaped = image.reshape(28, 28)\n",
    "    image_reshaped.shape\n",
    "    label = train_label_data[n]\n",
    "    plt.figure(figsize = (4, 4))\n",
    "    plt.title(\"sample of \" + str(label))\n",
    "    plt.imshow(image_reshaped, cmap=\"gray\")\n",
    "    plt.show()\n",
    "    \n",
    "    image_4d = image.reshape(-1, 28, 28, 1)\n",
    "    headers = {\"content-type\": \"application/json\"}\n",
    "    payload = json.dumps({\"signature_name\": \"serving_default\",\n",
    "                          \"instances\": image_4d.tolist()})\n",
    "    json_response = requests.post('http://localhost:8501/v1/models/mnist:predict',\n",
    "                                   data=payload, headers=headers)\n",
    "    prediction_list = json_response.json()['predictions'][0]\n",
    "    prediction = prediction_list.index(max(prediction_list))\n",
    "    \n",
    "    return \"prediction result:{}\".format(prediction)"
   ]
  },
  {
   "cell_type": "code",
   "execution_count": null,
   "id": "9a5271d8",
   "metadata": {},
   "outputs": [],
   "source": [
    "mnist_inference(100)"
   ]
  },
  {
   "cell_type": "code",
   "execution_count": null,
   "id": "70987ee5",
   "metadata": {},
   "outputs": [],
   "source": []
  }
 ],
 "metadata": {
  "kernelspec": {
   "display_name": "conda_tensorflow2_p36",
   "language": "python",
   "name": "conda_tensorflow2_p36"
  },
  "language_info": {
   "codemirror_mode": {
    "name": "ipython",
    "version": 3
   },
   "file_extension": ".py",
   "mimetype": "text/x-python",
   "name": "python",
   "nbconvert_exporter": "python",
   "pygments_lexer": "ipython3",
   "version": "3.6.13"
  }
 },
 "nbformat": 4,
 "nbformat_minor": 5
}
