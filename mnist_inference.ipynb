{
 "cells": [
  {
   "cell_type": "markdown",
   "id": "f4ba74cb",
   "metadata": {},
   "source": [
    "# MNIST 추론"
   ]
  },
  {
   "cell_type": "code",
   "execution_count": null,
   "id": "eacd2496",
   "metadata": {},
   "outputs": [],
   "source": [
    "!unzip dataset.zip"
   ]
  },
  {
   "cell_type": "code",
   "execution_count": null,
   "id": "cba2d51c",
   "metadata": {},
   "outputs": [],
   "source": [
    "import sys, os\n",
    "sys.path.append(\"./dataset\")\n",
    "\n",
    "import numpy as np\n",
    "import pickle\n",
    "from dataset.mnist import load_mnist\n",
    "import matplotlib.pylab as plt\n",
    "import requests\n",
    "import json"
   ]
  },
  {
   "cell_type": "markdown",
   "id": "8b3de5d6",
   "metadata": {},
   "source": [
    "# MNIST 데이터 로딩"
   ]
  },
  {
   "cell_type": "code",
   "execution_count": null,
   "id": "3f21d8d2",
   "metadata": {},
   "outputs": [],
   "source": [
    "(train_image_data, train_label_data), (test_image_data, test_label_data) = load_mnist(flatten = True, normalize = False)"
   ]
  },
  {
   "cell_type": "markdown",
   "id": "17ce7824",
   "metadata": {},
   "source": [
    "# 추론"
   ]
  },
  {
   "cell_type": "code",
   "execution_count": null,
   "id": "e1e010f3",
   "metadata": {},
   "outputs": [],
   "source": [
    "def mnist_show(n):\n",
    "    image = train_image_data[n]\n",
    "    image_reshaped = image.reshape(28, 28)\n",
    "    label = train_label_data[n]\n",
    "    plt.figure(figsize = (4, 4))\n",
    "    plt.title(\"sample of \" + str(label))\n",
    "    plt.imshow(image_reshaped, cmap=\"gray\")\n",
    "    plt.show()"
   ]
  },
  {
   "cell_type": "code",
   "execution_count": null,
   "id": "54339717",
   "metadata": {},
   "outputs": [],
   "source": [
    "mnist_show(100)"
   ]
  },
  {
   "cell_type": "code",
   "execution_count": null,
   "id": "f6fa6aca",
   "metadata": {},
   "outputs": [],
   "source": [
    "def mnist_inference(n):\n",
    "    image = train_image_data[n]\n",
    "    headers = {\"content-type\": \"application/json\"}\n",
    "    payload = json.dumps({\"signature_name\": \"serving_default\",\n",
    "                          \"instances\": image.tolist()})\n",
    "    response = requests.post('http://localhost:8501/v1/models/mnist:predict',\n",
    "                              data=payload, headers=headers)\n",
    "    return response.json()"
   ]
  },
  {
   "cell_type": "code",
   "execution_count": null,
   "id": "396a9da9",
   "metadata": {},
   "outputs": [],
   "source": [
    "mnist_inference(100)"
   ]
  },
  {
   "cell_type": "code",
   "execution_count": null,
   "id": "a40d0099",
   "metadata": {},
   "outputs": [],
   "source": [
    "def mnist_get_inference_result(n):\n",
    "    response = mnist_inference(n)\n",
    "    prediction_list = response['predictions'][0]\n",
    "    prediction = prediction_list.index(max(prediction_list))\n",
    "    return \"prediction result:{}\".format(prediction)"
   ]
  },
  {
   "cell_type": "code",
   "execution_count": null,
   "id": "53c861df",
   "metadata": {},
   "outputs": [],
   "source": [
    "mnist_get_inference_result(100)"
   ]
  },
  {
   "cell_type": "code",
   "execution_count": null,
   "id": "1cc2381e",
   "metadata": {},
   "outputs": [],
   "source": []
  }
 ],
 "metadata": {
  "kernelspec": {
   "display_name": "conda_tensorflow2_p36",
   "language": "python",
   "name": "conda_tensorflow2_p36"
  },
  "language_info": {
   "codemirror_mode": {
    "name": "ipython",
    "version": 3
   },
   "file_extension": ".py",
   "mimetype": "text/x-python",
   "name": "python",
   "nbconvert_exporter": "python",
   "pygments_lexer": "ipython3",
   "version": "3.6.13"
  }
 },
 "nbformat": 4,
 "nbformat_minor": 5
}
